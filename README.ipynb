{
 "cells": [
  {
   "cell_type": "markdown",
   "metadata": {
    "colab_type": "text",
    "id": "s9OB8liRpZIE"
   },
   "source": [
    "# Cookbook: calidad-y-pre-procesamiento-de-datos-2020-1\n",
    "\n",
    "![](https://docs.google.com/uc?export=download&id=1aup4qFJPH6gPOSO6rcHr7teYLwFlzcXi)\n",
    "\n",
    "### [@jacoboggleon](https://mx.linkedin.com/in/jacoboggleon)\n",
    "## Recipes\n",
    "1. [Práctica 0: Laboratorio virtual para ciencia de datos](https://nbviewer.jupyter.org/github/JacoboGGLeon/calidad-y-pre-procesamiento-de-datos-2020-1/blob/master/Pr%C3%A1ctica%200.ipynb)\n",
    "\n",
    "2. [Práctica G: repositorios locales y remotos](https://nbviewer.jupyter.org/github/JacoboGGLeon/calidad-y-pre-procesamiento-de-datos-2020-1/blob/master/Pr%C3%A1ctica%20G.ipynb)\n"
   ]
  }
 ],
 "metadata": {
  "kernelspec": {
   "display_name": "Python 3",
   "language": "python",
   "name": "python3"
  },
  "language_info": {
   "codemirror_mode": {
    "name": "ipython",
    "version": 3
   },
   "file_extension": ".py",
   "mimetype": "text/x-python",
   "name": "python",
   "nbconvert_exporter": "python",
   "pygments_lexer": "ipython3",
   "version": "3.7.5"
  }
 },
 "nbformat": 4,
 "nbformat_minor": 4
}
