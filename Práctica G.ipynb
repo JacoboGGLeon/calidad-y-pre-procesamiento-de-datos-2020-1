{
 "cells": [
  {
   "cell_type": "markdown",
   "metadata": {
    "colab_type": "text",
    "id": "X1xALvaQWBX_"
   },
   "source": [
    "# Práctica G: repositorios locales y remotos"
   ]
  },
  {
   "cell_type": "markdown",
   "metadata": {
    "colab_type": "text",
    "id": "ciqUoT0yixVA"
   },
   "source": [
    "##### Cookbook [@calidad-y-pre-procesamiento-de-datos-2020-1](https://github.com/JacoboGGLeon/calidad-y-pre-procesamiento-de-datos-2020-1/blob/master/README.ipynb)"
   ]
  },
  {
   "cell_type": "markdown",
   "metadata": {
    "colab_type": "text",
    "id": "EUyHB8zC5ubh"
   },
   "source": [
    "## Resources"
   ]
  },
  {
   "cell_type": "markdown",
   "metadata": {
    "colab_type": "text",
    "id": "ciPg12iW5wYw"
   },
   "source": [
    "* [Git cheatsheet](https://ndpsoftware.com/git-cheatsheet.h)\n",
    "* [Installing and using Git and GitHub on Ubuntu Linux: A beginner's guide](https://www.howtoforge.com/tutorial/install-git-and-github-on-ubuntu/)\n",
    "* [How to remove origin from git repository](https://stackoverflow.com/questions/9224754/how-to-remove-origin-from-git-repository)\n",
    "\n"
   ]
  },
  {
   "cell_type": "markdown",
   "metadata": {
    "colab_type": "text",
    "id": "703KlDUZIzsb"
   },
   "source": [
    "### Highlights\n",
    "\n",
    "```\n",
    "vagrant@vagrant:~/test$ git add README\n",
    "vagrant@vagrant:~/test$ git commit -m \"primer commit\"\n",
    "[master cc2296c] primer commit\n",
    " 1 file changed, 1 insertion(+), 1 deletion(-)\n",
    "vagrant@vagrant:~/test$ git push origin master\n",
    "Username for 'https://github.com': JacoboGGLeon\n",
    "Password for 'https://JacoboGGLeon@github.com': \n",
    "Counting objects: 3, done.\n",
    "Writing objects: 100% (3/3), 257 bytes | 85.00 KiB/s, done.\n",
    "Total 3 (delta 0), reused 0 (delta 0)\n",
    "To https://github.com/JacoboGGLeon/test.git\n",
    "   c1c7113..cc2296c  master -> master\n",
    "```\n",
    "\n"
   ]
  },
  {
   "cell_type": "markdown",
   "metadata": {
    "colab_type": "text",
    "id": "GOljQUJIirjB"
   },
   "source": [
    "## Recipe "
   ]
  },
  {
   "cell_type": "markdown",
   "metadata": {
    "colab_type": "text",
    "id": "UfPNo8E8WNHm"
   },
   "source": [
    "### Instalación\n",
    "\n"
   ]
  },
  {
   "cell_type": "markdown",
   "metadata": {},
   "source": [
    "#### En terminal:"
   ]
  },
  {
   "cell_type": "markdown",
   "metadata": {
    "colab_type": "text",
    "id": "jQXuWaLx4gdB"
   },
   "source": [
    "Actualizar el sistema operativo\n",
    "\n",
    "> ```sudo apt-get update -y && sudo apt-get upgrade -y```"
   ]
  },
  {
   "cell_type": "markdown",
   "metadata": {
    "colab_type": "text",
    "id": "xQXis9JM4lqf"
   },
   "source": [
    "Instalar git\n",
    "\n",
    "> ```sudo apt-get install git```"
   ]
  },
  {
   "cell_type": "markdown",
   "metadata": {
    "colab_type": "text",
    "id": "5kXkCzU_4pwM"
   },
   "source": [
    "Checar la versión instalada\n",
    "\n",
    "> ```git --version```"
   ]
  },
  {
   "cell_type": "markdown",
   "metadata": {
    "colab_type": "text",
    "id": "L0PQqWAV9ufp"
   },
   "source": [
    "Actualizar las credenciales de Github\n",
    "\n",
    "> ```git config --global user.name \"user_name\"```\n",
    "\n",
    "> ```git config --global user.email \"user_email\"```\n",
    "\n",
    "> ```git config --global user.password \"user_password\"```\n"
   ]
  },
  {
   "cell_type": "markdown",
   "metadata": {
    "colab_type": "text",
    "id": "UfPNo8E8WNHm"
   },
   "source": [
    "### Del repositorio local al repositorio remoto"
   ]
  },
  {
   "cell_type": "markdown",
   "metadata": {
    "colab_type": "text",
    "id": "oXw88Tp0A9Oa"
   },
   "source": [
    "Crear un repositorio en la máquina local\n",
    "\n",
    "> ```git init test```\n",
    "\n",
    "Respuesta esperada (similar)\n",
    "\n",
    "> ```Initialized empty Git repository in /home/vagrant/test/.git/```\n"
   ]
  },
  {
   "cell_type": "markdown",
   "metadata": {
    "colab_type": "text",
    "id": "0SIlYoJsBgKN"
   },
   "source": [
    "Crear un archivo \n",
    "\n",
    "> ```nano README```\n",
    "\n",
    "Escribir dentro de él: ¡Hola mundo!\n"
   ]
  },
  {
   "cell_type": "markdown",
   "metadata": {
    "colab_type": "text",
    "id": "WVuSUCDDBqT1"
   },
   "source": [
    "Indexar el archivo, o sea, agregarlo\n",
    " en una lista para subirlo al repositorio remoto que se encuentra en Github\n",
    "\n",
    "> ```git add README```\n"
   ]
  },
  {
   "cell_type": "markdown",
   "metadata": {
    "colab_type": "text",
    "id": "p8WcfehECDdB"
   },
   "source": [
    "Avisar que nuestro archivo(s) está listo para subirlo al repositorio remoto\n",
    "\n",
    "> ```git commit -m \"some_message\"```\n"
   ]
  },
  {
   "cell_type": "markdown",
   "metadata": {
    "colab_type": "text",
    "id": "JwXxpHeICeev"
   },
   "source": [
    "### En Github"
   ]
  },
  {
   "cell_type": "markdown",
   "metadata": {
    "colab_type": "text",
    "id": "KNdbzZ3BCneb"
   },
   "source": [
    "Crar un repositorio remoto\n",
    "\n",
    "> ![](https://docs.google.com/uc?export=download&id=1sgu4r1PcFb1o2x-Y8VhQe_g9aUVNiXVO)"
   ]
  },
  {
   "cell_type": "markdown",
   "metadata": {
    "colab_type": "text",
    "id": "nHv42YcyETH6"
   },
   "source": [
    "Sólo llenar el nombre del repositorio: ```test```\n",
    "\n",
    "> ![](https://docs.google.com/uc?export=download&id=14XwhMn1DYJETVRz7a95E_oF4TgWdH080)"
   ]
  },
  {
   "cell_type": "markdown",
   "metadata": {
    "colab_type": "text",
    "id": "xKyrbbLWE7sj"
   },
   "source": [
    "### En terminal (de nuevo)"
   ]
  },
  {
   "cell_type": "markdown",
   "metadata": {
    "colab_type": "text",
    "id": "SwQy2fcVEo2-"
   },
   "source": [
    "Agregar el origen remoto, o sea, la conexión del repositorio local con el repositorio remoto a.k.a. Github\n",
    "\n",
    "* Copiar la ruta de el repositorio remoto ```.git```  \n",
    "> ![](https://docs.google.com/uc?export=download&id=1VnswhRavTcZzgju-4J814WB4wH_xaucT)\n",
    "\n",
    "Y ese será el \"origen\"\n",
    " \n",
    "> ```git remote add origin https://github.com/user_name/test.git```\n"
   ]
  },
  {
   "cell_type": "markdown",
   "metadata": {
    "colab_type": "text",
    "id": "7EdqvO5DFqbw"
   },
   "source": [
    "Subir el archivo que enlistamos para subirse al repositorio remoto\n",
    "\n",
    "> ```git push origin master``` \n",
    "\n",
    "Nos pedirá dos datos: ```username``` y ```password```\n",
    "\n",
    "Así sería la respuesta (similar)\n",
    "\n",
    "\n",
    "> ```\n",
    "> Username for 'https://github.com': \n",
    "> Password for 'https://...@github.com': \n",
    "> Counting objects: 3, done.\n",
    "> Writing objects: 100% (3/3), 228 bytes | 76.00 KiB/s, done.\n",
    "> Total 3 (delta 0), reused 0 (delta 0)\n",
    "> To https://github.com/.../test.git\n",
    ">  * [new branch]      master -> master\n",
    "> ```\n"
   ]
  },
  {
   "cell_type": "markdown",
   "metadata": {
    "colab_type": "text",
    "id": "cj2F2aQvGk--"
   },
   "source": [
    "### En Github (de nuevo, ya para acabar)"
   ]
  },
  {
   "cell_type": "markdown",
   "metadata": {
    "colab_type": "text",
    "id": "UW0okY48GwdV"
   },
   "source": [
    "Seleccionar el repositorio ```test``` y ahí debería estar nuestro repositorio\n",
    "\n",
    "> ![](https://docs.google.com/uc?export=download&id=1pSb5V-F1sYvwMkRjq7CzzU-X2r8F2Ys_)"
   ]
  },
  {
   "cell_type": "markdown",
   "metadata": {
    "colab_type": "text",
    "id": "UfPNo8E8WNHm"
   },
   "source": [
    "### Del repositorio remoto al repositorio local\n",
    "\n"
   ]
  },
  {
   "cell_type": "markdown",
   "metadata": {
    "colab_type": "text",
    "id": "oXw88Tp0A9Oa"
   },
   "source": [
    "En Github crear un repositorio remoto\n",
    "\n",
    "> ![](https://docs.google.com/uc?export=download&id=1poY44l8QYpM0lCtcbat7soodUQqILwHw)"
   ]
  },
  {
   "cell_type": "markdown",
   "metadata": {
    "colab_type": "text",
    "id": "oXw88Tp0A9Oa"
   },
   "source": [
    "En una carpeta raíz\n",
    "\n",
    "> ```git clone https://github.com/.../test.git```\n",
    "\n",
    "Respuesta esperada (similar)\n",
    "\n",
    "> ```Cloning into 'test'...\n",
    "warning: You appear to have cloned an empty repository.```"
   ]
  },
  {
   "cell_type": "markdown",
   "metadata": {
    "colab_type": "text",
    "id": "oXw88Tp0A9Oa"
   },
   "source": [
    "Listar los archivos\n",
    "\n",
    "> ```ls```\n",
    "\n",
    "Debemos encontrar una carpeta ```test```\n",
    "\n",
    "Entrar a la carpeta\n",
    "\n",
    "> ```cd test```"
   ]
  },
  {
   "cell_type": "markdown",
   "metadata": {
    "colab_type": "text",
    "id": "oXw88Tp0A9Oa"
   },
   "source": [
    "Crear archivo y editarlo al mismo tiempo\n",
    "\n",
    "> ```nano readme.md```\n",
    "\n",
    "Dentro escribimos un mensaje, el que sea\n",
    "\n",
    "> *Para salir, escribir* ```ctrl``` + ```x``` *y aceptar los cambios*"
   ]
  },
  {
   "cell_type": "markdown",
   "metadata": {
    "colab_type": "text",
    "id": "oXw88Tp0A9Oa"
   },
   "source": [
    "Agregamos todos los archivos\n",
    "\n",
    "> ```git add .```"
   ]
  },
  {
   "cell_type": "markdown",
   "metadata": {
    "colab_type": "text",
    "id": "oXw88Tp0A9Oa"
   },
   "source": [
    "Hacemos el *commit*\n",
    "\n",
    "> ```git commit -m \"primer commit\"```\n",
    "\n",
    "Respuesta esperada (similar)\n",
    "\n",
    "> ```1 file changed, 1 insertion(+)\n",
    " create mode 100644 readme.md```"
   ]
  },
  {
   "cell_type": "markdown",
   "metadata": {
    "colab_type": "text",
    "id": "oXw88Tp0A9Oa"
   },
   "source": [
    "Actualizamos el repositorio remoto\n",
    "\n",
    "> ```git push origin master```\n",
    "\n",
    "Respuesta esperada (similar)\n",
    "\n",
    "> ```\n",
    "> Username for 'https://github.com':\n",
    "> Password for 'https://...@github.com': \n",
    "> Counting objects: 3, done.\n",
    "> Writing objects: 100% (3/3), 228 bytes | 76.00 KiB/s, done.\n",
    "> Total 3 (delta 0), reused 0 (delta 0)\n",
    "> To https://github.com/.../test.git\n",
    ">  * [new branch]      master -> master\n",
    "> ```"
   ]
  }
 ],
 "metadata": {
  "kernelspec": {
   "display_name": "Python 3",
   "language": "python",
   "name": "python3"
  },
  "language_info": {
   "codemirror_mode": {
    "name": "ipython",
    "version": 3
   },
   "file_extension": ".py",
   "mimetype": "text/x-python",
   "name": "python",
   "nbconvert_exporter": "python",
   "pygments_lexer": "ipython3",
   "version": "3.7.5"
  }
 },
 "nbformat": 4,
 "nbformat_minor": 4
}
