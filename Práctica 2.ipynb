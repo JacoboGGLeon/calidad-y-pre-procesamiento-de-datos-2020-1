{
 "cells": [
  {
   "cell_type": "markdown",
   "metadata": {
    "colab_type": "text",
    "id": "X1xALvaQWBX_"
   },
   "source": [
    "# Práctica 3: limpieza de datos"
   ]
  },
  {
   "cell_type": "markdown",
   "metadata": {
    "colab_type": "text",
    "id": "ciqUoT0yixVA"
   },
   "source": [
    "##### Cookbook [@calidad-y-pre-procesamiento-de-datos-2020-1](https://nbviewer.jupyter.org/github/JacoboGGLeon/calidad-y-pre-procesamiento-de-datos-2020-1/blob/master/README.ipynb)"
   ]
  },
  {
   "cell_type": "markdown",
   "metadata": {
    "colab_type": "text",
    "id": "oc1R0TifiqXB"
   },
   "source": [
    "## Resources"
   ]
  },
  {
   "cell_type": "markdown",
   "metadata": {
    "colab_type": "text",
    "id": "ZYWUvNR1yyLu"
   },
   "source": [
    "* [An Essential Guide to Exploratory Data Analysis and Data Cleaning](https://medium.com/swlh/a-complete-guide-to-exploratory-data-analysis-and-data-cleaning-dd282925320f)\n",
    "* [Data Cleaning in Python: the Ultimate Guide (2020)](https://towardsdatascience.com/data-cleaning-in-python-the-ultimate-guide-2020-c63b88bf0a0d)\n",
    "* [Sberbank Russian Housing Market](https://www.kaggle.com/c/sberbank-russian-housing-market/overview/description)\n",
    "* [How To Manipulate Date And Time In Python Like A Boss](https://towardsdatascience.com/how-to-manipulate-date-and-time-in-python-like-a-boss-ddea677c6a4d)\n",
    "* [HTML color codes](https://htmlcolorcodes.com/)"
   ]
  },
  {
   "cell_type": "markdown",
   "metadata": {
    "colab_type": "text",
    "id": "GOljQUJIirjB"
   },
   "source": [
    "## Recipe "
   ]
  },
  {
   "cell_type": "markdown",
   "metadata": {
    "colab_type": "text",
    "id": "Dl7iwxGA0GjA"
   },
   "source": [
    "La limpieza o depuración de datos es el proceso de detección y corrección (o eliminación) de registros corruptos o inexactos de un conjunto de registros, tabla o base de datos y se refiere a la identificación de partes incompletas, incorrectas, inexactas o irrelevantes de los datos y luego a la sustitución, modificación o eliminación de los *datos sucios*.\n",
    "\n",
    "![](https://miro.medium.com/max/1315/1*6NZejVJz5nmxgHeWWTc2Iw.png)"
   ]
  },
  {
   "cell_type": "markdown",
   "metadata": {},
   "source": [
    "El objetivo de este proyecto es predecir las fluctuaciones del precio de la vivienda en Rusia. No estamos limpiando todo el conjunto de datos, pero mostraremos ejemplos de ello.\n",
    "Antes de entrar en el proceso de limpieza, echemos un breve vistazo a los datos."
   ]
  },
  {
   "cell_type": "code",
   "execution_count": 3,
   "metadata": {},
   "outputs": [],
   "source": [
    "import pandas as pd\n",
    "import numpy as np\n",
    "import seaborn as sns\n",
    "\n",
    "import matplotlib.pyplot as plt\n",
    "import matplotlib.mlab as mlab\n",
    "import matplotlib\n",
    "plt.style.use('ggplot')\n",
    "from matplotlib.pyplot import figure\n",
    "\n",
    "%matplotlib inline\n",
    "matplotlib.rcParams['figure.figsize'] = (12,8)\n",
    "\n",
    "pd.options.mode.chained_assignment = None #silence"
   ]
  },
  {
   "cell_type": "markdown",
   "metadata": {},
   "source": [
    "### Exploración de los datos"
   ]
  },
  {
   "cell_type": "code",
   "execution_count": 4,
   "metadata": {},
   "outputs": [
    {
     "data": {
      "text/html": [
       "<div>\n",
       "<style scoped>\n",
       "    .dataframe tbody tr th:only-of-type {\n",
       "        vertical-align: middle;\n",
       "    }\n",
       "\n",
       "    .dataframe tbody tr th {\n",
       "        vertical-align: top;\n",
       "    }\n",
       "\n",
       "    .dataframe thead th {\n",
       "        text-align: right;\n",
       "    }\n",
       "</style>\n",
       "<table border=\"1\" class=\"dataframe\">\n",
       "  <thead>\n",
       "    <tr style=\"text-align: right;\">\n",
       "      <th></th>\n",
       "      <th>id</th>\n",
       "      <th>timestamp</th>\n",
       "      <th>full_sq</th>\n",
       "      <th>life_sq</th>\n",
       "      <th>floor</th>\n",
       "      <th>max_floor</th>\n",
       "      <th>material</th>\n",
       "      <th>build_year</th>\n",
       "      <th>num_room</th>\n",
       "      <th>kitch_sq</th>\n",
       "      <th>...</th>\n",
       "      <th>cafe_count_5000_price_2500</th>\n",
       "      <th>cafe_count_5000_price_4000</th>\n",
       "      <th>cafe_count_5000_price_high</th>\n",
       "      <th>big_church_count_5000</th>\n",
       "      <th>church_count_5000</th>\n",
       "      <th>mosque_count_5000</th>\n",
       "      <th>leisure_count_5000</th>\n",
       "      <th>sport_count_5000</th>\n",
       "      <th>market_count_5000</th>\n",
       "      <th>price_doc</th>\n",
       "    </tr>\n",
       "  </thead>\n",
       "  <tbody>\n",
       "    <tr>\n",
       "      <th>0</th>\n",
       "      <td>1</td>\n",
       "      <td>2011-08-20</td>\n",
       "      <td>43</td>\n",
       "      <td>27.0</td>\n",
       "      <td>4.0</td>\n",
       "      <td>NaN</td>\n",
       "      <td>NaN</td>\n",
       "      <td>NaN</td>\n",
       "      <td>NaN</td>\n",
       "      <td>NaN</td>\n",
       "      <td>...</td>\n",
       "      <td>9</td>\n",
       "      <td>4</td>\n",
       "      <td>0</td>\n",
       "      <td>13</td>\n",
       "      <td>22</td>\n",
       "      <td>1</td>\n",
       "      <td>0</td>\n",
       "      <td>52</td>\n",
       "      <td>4</td>\n",
       "      <td>5850000</td>\n",
       "    </tr>\n",
       "    <tr>\n",
       "      <th>1</th>\n",
       "      <td>2</td>\n",
       "      <td>2011-08-23</td>\n",
       "      <td>34</td>\n",
       "      <td>19.0</td>\n",
       "      <td>3.0</td>\n",
       "      <td>NaN</td>\n",
       "      <td>NaN</td>\n",
       "      <td>NaN</td>\n",
       "      <td>NaN</td>\n",
       "      <td>NaN</td>\n",
       "      <td>...</td>\n",
       "      <td>15</td>\n",
       "      <td>3</td>\n",
       "      <td>0</td>\n",
       "      <td>15</td>\n",
       "      <td>29</td>\n",
       "      <td>1</td>\n",
       "      <td>10</td>\n",
       "      <td>66</td>\n",
       "      <td>14</td>\n",
       "      <td>6000000</td>\n",
       "    </tr>\n",
       "    <tr>\n",
       "      <th>2</th>\n",
       "      <td>3</td>\n",
       "      <td>2011-08-27</td>\n",
       "      <td>43</td>\n",
       "      <td>29.0</td>\n",
       "      <td>2.0</td>\n",
       "      <td>NaN</td>\n",
       "      <td>NaN</td>\n",
       "      <td>NaN</td>\n",
       "      <td>NaN</td>\n",
       "      <td>NaN</td>\n",
       "      <td>...</td>\n",
       "      <td>10</td>\n",
       "      <td>3</td>\n",
       "      <td>0</td>\n",
       "      <td>11</td>\n",
       "      <td>27</td>\n",
       "      <td>0</td>\n",
       "      <td>4</td>\n",
       "      <td>67</td>\n",
       "      <td>10</td>\n",
       "      <td>5700000</td>\n",
       "    </tr>\n",
       "    <tr>\n",
       "      <th>3</th>\n",
       "      <td>4</td>\n",
       "      <td>2011-09-01</td>\n",
       "      <td>89</td>\n",
       "      <td>50.0</td>\n",
       "      <td>9.0</td>\n",
       "      <td>NaN</td>\n",
       "      <td>NaN</td>\n",
       "      <td>NaN</td>\n",
       "      <td>NaN</td>\n",
       "      <td>NaN</td>\n",
       "      <td>...</td>\n",
       "      <td>11</td>\n",
       "      <td>2</td>\n",
       "      <td>1</td>\n",
       "      <td>4</td>\n",
       "      <td>4</td>\n",
       "      <td>0</td>\n",
       "      <td>0</td>\n",
       "      <td>26</td>\n",
       "      <td>3</td>\n",
       "      <td>13100000</td>\n",
       "    </tr>\n",
       "    <tr>\n",
       "      <th>4</th>\n",
       "      <td>5</td>\n",
       "      <td>2011-09-05</td>\n",
       "      <td>77</td>\n",
       "      <td>77.0</td>\n",
       "      <td>4.0</td>\n",
       "      <td>NaN</td>\n",
       "      <td>NaN</td>\n",
       "      <td>NaN</td>\n",
       "      <td>NaN</td>\n",
       "      <td>NaN</td>\n",
       "      <td>...</td>\n",
       "      <td>319</td>\n",
       "      <td>108</td>\n",
       "      <td>17</td>\n",
       "      <td>135</td>\n",
       "      <td>236</td>\n",
       "      <td>2</td>\n",
       "      <td>91</td>\n",
       "      <td>195</td>\n",
       "      <td>14</td>\n",
       "      <td>16331452</td>\n",
       "    </tr>\n",
       "  </tbody>\n",
       "</table>\n",
       "<p>5 rows × 292 columns</p>\n",
       "</div>"
      ],
      "text/plain": [
       "   id   timestamp  full_sq  life_sq  floor  max_floor  material  build_year  \\\n",
       "0   1  2011-08-20       43     27.0    4.0        NaN       NaN         NaN   \n",
       "1   2  2011-08-23       34     19.0    3.0        NaN       NaN         NaN   \n",
       "2   3  2011-08-27       43     29.0    2.0        NaN       NaN         NaN   \n",
       "3   4  2011-09-01       89     50.0    9.0        NaN       NaN         NaN   \n",
       "4   5  2011-09-05       77     77.0    4.0        NaN       NaN         NaN   \n",
       "\n",
       "   num_room  kitch_sq  ...  cafe_count_5000_price_2500  \\\n",
       "0       NaN       NaN  ...                           9   \n",
       "1       NaN       NaN  ...                          15   \n",
       "2       NaN       NaN  ...                          10   \n",
       "3       NaN       NaN  ...                          11   \n",
       "4       NaN       NaN  ...                         319   \n",
       "\n",
       "  cafe_count_5000_price_4000 cafe_count_5000_price_high  \\\n",
       "0                          4                          0   \n",
       "1                          3                          0   \n",
       "2                          3                          0   \n",
       "3                          2                          1   \n",
       "4                        108                         17   \n",
       "\n",
       "   big_church_count_5000  church_count_5000  mosque_count_5000  \\\n",
       "0                     13                 22                  1   \n",
       "1                     15                 29                  1   \n",
       "2                     11                 27                  0   \n",
       "3                      4                  4                  0   \n",
       "4                    135                236                  2   \n",
       "\n",
       "   leisure_count_5000  sport_count_5000  market_count_5000  price_doc  \n",
       "0                   0                52                  4    5850000  \n",
       "1                  10                66                 14    6000000  \n",
       "2                   4                67                 10    5700000  \n",
       "3                   0                26                  3   13100000  \n",
       "4                  91               195                 14   16331452  \n",
       "\n",
       "[5 rows x 292 columns]"
      ]
     },
     "execution_count": 4,
     "metadata": {},
     "output_type": "execute_result"
    }
   ],
   "source": [
    "# read the data\n",
    "df = pd.read_csv('sberbank-russian-housing-market/train.csv')\n",
    "df.head()"
   ]
  },
  {
   "cell_type": "code",
   "execution_count": 6,
   "metadata": {},
   "outputs": [
    {
     "name": "stdout",
     "output_type": "stream",
     "text": [
      "(30471, 292)\n",
      "id                      int64\n",
      "timestamp              object\n",
      "full_sq                 int64\n",
      "life_sq               float64\n",
      "floor                 float64\n",
      "                       ...   \n",
      "mosque_count_5000       int64\n",
      "leisure_count_5000      int64\n",
      "sport_count_5000        int64\n",
      "market_count_5000       int64\n",
      "price_doc               int64\n",
      "Length: 292, dtype: object\n"
     ]
    }
   ],
   "source": [
    "# shape and data types of the data\n",
    "print(df.shape)\n",
    "print(df.dtypes)"
   ]
  },
  {
   "cell_type": "code",
   "execution_count": 5,
   "metadata": {},
   "outputs": [
    {
     "name": "stdout",
     "output_type": "stream",
     "text": [
      "['id' 'full_sq' 'life_sq' 'floor' 'max_floor' 'material' 'build_year'\n",
      " 'num_room' 'kitch_sq' 'state' 'area_m' 'raion_popul' 'green_zone_part'\n",
      " 'indust_part' 'children_preschool' 'preschool_quota'\n",
      " 'preschool_education_centers_raion' 'children_school' 'school_quota'\n",
      " 'school_education_centers_raion' 'school_education_centers_top_20_raion'\n",
      " 'hospital_beds_raion' 'healthcare_centers_raion'\n",
      " 'university_top_20_raion' 'sport_objects_raion'\n",
      " 'additional_education_raion' 'culture_objects_top_25_raion'\n",
      " 'shopping_centers_raion' 'office_raion' 'full_all' 'male_f' 'female_f'\n",
      " 'young_all' 'young_male' 'young_female' 'work_all' 'work_male'\n",
      " 'work_female' 'ekder_all' 'ekder_male' 'ekder_female' '0_6_all'\n",
      " '0_6_male' '0_6_female' '7_14_all' '7_14_male' '7_14_female' '0_17_all'\n",
      " '0_17_male' '0_17_female' '16_29_all' '16_29_male' '16_29_female'\n",
      " '0_13_all' '0_13_male' '0_13_female'\n",
      " 'raion_build_count_with_material_info' 'build_count_block'\n",
      " 'build_count_wood' 'build_count_frame' 'build_count_brick'\n",
      " 'build_count_monolith' 'build_count_panel' 'build_count_foam'\n",
      " 'build_count_slag' 'build_count_mix'\n",
      " 'raion_build_count_with_builddate_info' 'build_count_before_1920'\n",
      " 'build_count_1921-1945' 'build_count_1946-1970' 'build_count_1971-1995'\n",
      " 'build_count_after_1995' 'ID_metro' 'metro_min_avto' 'metro_km_avto'\n",
      " 'metro_min_walk' 'metro_km_walk' 'kindergarten_km' 'school_km' 'park_km'\n",
      " 'green_zone_km' 'industrial_km' 'water_treatment_km' 'cemetery_km'\n",
      " 'incineration_km' 'railroad_station_walk_km' 'railroad_station_walk_min'\n",
      " 'ID_railroad_station_walk' 'railroad_station_avto_km'\n",
      " 'railroad_station_avto_min' 'ID_railroad_station_avto'\n",
      " 'public_transport_station_km' 'public_transport_station_min_walk'\n",
      " 'water_km' 'mkad_km' 'ttk_km' 'sadovoe_km' 'bulvar_ring_km' 'kremlin_km'\n",
      " 'big_road1_km' 'ID_big_road1' 'big_road2_km' 'ID_big_road2' 'railroad_km'\n",
      " 'zd_vokzaly_avto_km' 'ID_railroad_terminal' 'bus_terminal_avto_km'\n",
      " 'ID_bus_terminal' 'oil_chemistry_km' 'nuclear_reactor_km' 'radiation_km'\n",
      " 'power_transmission_line_km' 'thermal_power_plant_km' 'ts_km'\n",
      " 'big_market_km' 'market_shop_km' 'fitness_km' 'swim_pool_km'\n",
      " 'ice_rink_km' 'stadium_km' 'basketball_km' 'hospice_morgue_km'\n",
      " 'detention_facility_km' 'public_healthcare_km' 'university_km'\n",
      " 'workplaces_km' 'shopping_centers_km' 'office_km'\n",
      " 'additional_education_km' 'preschool_km' 'big_church_km'\n",
      " 'church_synagogue_km' 'mosque_km' 'theater_km' 'museum_km'\n",
      " 'exhibition_km' 'catering_km' 'green_part_500' 'prom_part_500'\n",
      " 'office_count_500' 'office_sqm_500' 'trc_count_500' 'trc_sqm_500'\n",
      " 'cafe_count_500' 'cafe_sum_500_min_price_avg'\n",
      " 'cafe_sum_500_max_price_avg' 'cafe_avg_price_500'\n",
      " 'cafe_count_500_na_price' 'cafe_count_500_price_500'\n",
      " 'cafe_count_500_price_1000' 'cafe_count_500_price_1500'\n",
      " 'cafe_count_500_price_2500' 'cafe_count_500_price_4000'\n",
      " 'cafe_count_500_price_high' 'big_church_count_500' 'church_count_500'\n",
      " 'mosque_count_500' 'leisure_count_500' 'sport_count_500'\n",
      " 'market_count_500' 'green_part_1000' 'prom_part_1000' 'office_count_1000'\n",
      " 'office_sqm_1000' 'trc_count_1000' 'trc_sqm_1000' 'cafe_count_1000'\n",
      " 'cafe_sum_1000_min_price_avg' 'cafe_sum_1000_max_price_avg'\n",
      " 'cafe_avg_price_1000' 'cafe_count_1000_na_price'\n",
      " 'cafe_count_1000_price_500' 'cafe_count_1000_price_1000'\n",
      " 'cafe_count_1000_price_1500' 'cafe_count_1000_price_2500'\n",
      " 'cafe_count_1000_price_4000' 'cafe_count_1000_price_high'\n",
      " 'big_church_count_1000' 'church_count_1000' 'mosque_count_1000'\n",
      " 'leisure_count_1000' 'sport_count_1000' 'market_count_1000'\n",
      " 'green_part_1500' 'prom_part_1500' 'office_count_1500' 'office_sqm_1500'\n",
      " 'trc_count_1500' 'trc_sqm_1500' 'cafe_count_1500'\n",
      " 'cafe_sum_1500_min_price_avg' 'cafe_sum_1500_max_price_avg'\n",
      " 'cafe_avg_price_1500' 'cafe_count_1500_na_price'\n",
      " 'cafe_count_1500_price_500' 'cafe_count_1500_price_1000'\n",
      " 'cafe_count_1500_price_1500' 'cafe_count_1500_price_2500'\n",
      " 'cafe_count_1500_price_4000' 'cafe_count_1500_price_high'\n",
      " 'big_church_count_1500' 'church_count_1500' 'mosque_count_1500'\n",
      " 'leisure_count_1500' 'sport_count_1500' 'market_count_1500'\n",
      " 'green_part_2000' 'prom_part_2000' 'office_count_2000' 'office_sqm_2000'\n",
      " 'trc_count_2000' 'trc_sqm_2000' 'cafe_count_2000'\n",
      " 'cafe_sum_2000_min_price_avg' 'cafe_sum_2000_max_price_avg'\n",
      " 'cafe_avg_price_2000' 'cafe_count_2000_na_price'\n",
      " 'cafe_count_2000_price_500' 'cafe_count_2000_price_1000'\n",
      " 'cafe_count_2000_price_1500' 'cafe_count_2000_price_2500'\n",
      " 'cafe_count_2000_price_4000' 'cafe_count_2000_price_high'\n",
      " 'big_church_count_2000' 'church_count_2000' 'mosque_count_2000'\n",
      " 'leisure_count_2000' 'sport_count_2000' 'market_count_2000'\n",
      " 'green_part_3000' 'prom_part_3000' 'office_count_3000' 'office_sqm_3000'\n",
      " 'trc_count_3000' 'trc_sqm_3000' 'cafe_count_3000'\n",
      " 'cafe_sum_3000_min_price_avg' 'cafe_sum_3000_max_price_avg'\n",
      " 'cafe_avg_price_3000' 'cafe_count_3000_na_price'\n",
      " 'cafe_count_3000_price_500' 'cafe_count_3000_price_1000'\n",
      " 'cafe_count_3000_price_1500' 'cafe_count_3000_price_2500'\n",
      " 'cafe_count_3000_price_4000' 'cafe_count_3000_price_high'\n",
      " 'big_church_count_3000' 'church_count_3000' 'mosque_count_3000'\n",
      " 'leisure_count_3000' 'sport_count_3000' 'market_count_3000'\n",
      " 'green_part_5000' 'prom_part_5000' 'office_count_5000' 'office_sqm_5000'\n",
      " 'trc_count_5000' 'trc_sqm_5000' 'cafe_count_5000'\n",
      " 'cafe_sum_5000_min_price_avg' 'cafe_sum_5000_max_price_avg'\n",
      " 'cafe_avg_price_5000' 'cafe_count_5000_na_price'\n",
      " 'cafe_count_5000_price_500' 'cafe_count_5000_price_1000'\n",
      " 'cafe_count_5000_price_1500' 'cafe_count_5000_price_2500'\n",
      " 'cafe_count_5000_price_4000' 'cafe_count_5000_price_high'\n",
      " 'big_church_count_5000' 'church_count_5000' 'mosque_count_5000'\n",
      " 'leisure_count_5000' 'sport_count_5000' 'market_count_5000' 'price_doc']\n"
     ]
    }
   ],
   "source": [
    "# select numeric columns\n",
    "df_numeric = df.select_dtypes(include=[np.number])\n",
    "numeric_cols = df_numeric.columns.values\n",
    "print(numeric_cols)"
   ]
  },
  {
   "cell_type": "code",
   "execution_count": 7,
   "metadata": {},
   "outputs": [
    {
     "name": "stdout",
     "output_type": "stream",
     "text": [
      "['timestamp' 'product_type' 'sub_area' 'culture_objects_top_25'\n",
      " 'thermal_power_plant_raion' 'incineration_raion' 'oil_chemistry_raion'\n",
      " 'radiation_raion' 'railroad_terminal_raion' 'big_market_raion'\n",
      " 'nuclear_reactor_raion' 'detention_facility_raion' 'water_1line'\n",
      " 'big_road1_1line' 'railroad_1line' 'ecology']\n"
     ]
    }
   ],
   "source": [
    "# select non numeric columns\n",
    "df_non_numeric = df.select_dtypes(exclude=[np.number])\n",
    "non_numeric_cols = df_non_numeric.columns.values\n",
    "print(non_numeric_cols)"
   ]
  },
  {
   "cell_type": "markdown",
   "metadata": {},
   "source": [
    "Se revisó que el conjunto de datos tiene 30,471 observaciones y 292 características. También se identificaron las características numéricas o categóricas. Todas ellas son información útil. Ahora podemos revisar la lista de tipos de datos \"sucios\" y arreglarlos uno por uno."
   ]
  },
  {
   "cell_type": "markdown",
   "metadata": {},
   "source": [
    "### Datos faltantes"
   ]
  },
  {
   "cell_type": "markdown",
   "metadata": {},
   "source": [
    "#### Técnica #1: mapa de calor de los datos faltantes"
   ]
  },
  {
   "cell_type": "markdown",
   "metadata": {},
   "source": [
    "En la siguiente figura se muestran los patrones de datos que faltan de las primeras 30 características. El eje horizontal muestra el nombre de la característica; el eje vertical muestra el número de observaciones/filas; el color azul representa los datos que faltan, mientras que el color gris, en caso contrario.\n",
    "Por ejemplo, vemos que la característica`life_sq` tiene valores perdidos en muchas filas. Mientras que la característica `floor` sólo tiene pequeños valores perdidos alrededor de la observación 7000."
   ]
  },
  {
   "cell_type": "code",
   "execution_count": 13,
   "metadata": {},
   "outputs": [
    {
     "data": {
      "text/plain": [
       "<matplotlib.axes._subplots.AxesSubplot at 0x7f960c82be10>"
      ]
     },
     "execution_count": 13,
     "metadata": {},
     "output_type": "execute_result"
    },
    {
     "data": {
      "image/png": "[encoded data removed]",
      "text/plain": [
       "<Figure size 432x288 with 2 Axes>"
      ]
     },
     "metadata": {
      "needs_background": "light"
     },
     "output_type": "display_data"
    }
   ],
   "source": [
    "cols = df.columns[:30] # first 30 columns\n",
    "colours = ['#EEEDED', '#00B6FF'] # specify the colours - yellow is missing. blue is not missing.\n",
    "sns.heatmap(df[cols].isnull(), cmap=sns.color_palette(colours))"
   ]
  },
  {
   "cell_type": "markdown",
   "metadata": {},
   "source": [
    "#### Técnica #2: Lista de porcentaje de datos faltantes"
   ]
  },
  {
   "cell_type": "code",
   "execution_count": 25,
   "metadata": {
    "collapsed": true,
    "jupyter": {
     "outputs_hidden": true
    }
   },
   "outputs": [
    {
     "name": "stdout",
     "output_type": "stream",
     "text": [
      "life_sq - 21.0%\n",
      "floor - 1.0%\n",
      "max_floor - 31.0%\n",
      "material - 31.0%\n",
      "build_year - 45.0%\n",
      "num_room - 31.0%\n",
      "kitch_sq - 31.0%\n",
      "state - 44.0%\n",
      "preschool_quota - 22.0%\n",
      "school_quota - 22.0%\n",
      "hospital_beds_raion - 47.0%\n",
      "raion_build_count_with_material_info - 16.0%\n",
      "build_count_block - 16.0%\n",
      "build_count_wood - 16.0%\n",
      "build_count_frame - 16.0%\n",
      "build_count_brick - 16.0%\n",
      "build_count_monolith - 16.0%\n",
      "build_count_panel - 16.0%\n",
      "build_count_foam - 16.0%\n",
      "build_count_slag - 16.0%\n",
      "build_count_mix - 16.0%\n",
      "raion_build_count_with_builddate_info - 16.0%\n",
      "build_count_before_1920 - 16.0%\n",
      "build_count_1921-1945 - 16.0%\n",
      "build_count_1946-1970 - 16.0%\n",
      "build_count_1971-1995 - 16.0%\n",
      "build_count_after_1995 - 16.0%\n",
      "metro_min_walk - 0.0%\n",
      "metro_km_walk - 0.0%\n",
      "railroad_station_walk_km - 0.0%\n",
      "railroad_station_walk_min - 0.0%\n",
      "ID_railroad_station_walk - 0.0%\n",
      "cafe_sum_500_min_price_avg - 44.0%\n",
      "cafe_sum_500_max_price_avg - 44.0%\n",
      "cafe_avg_price_500 - 44.0%\n",
      "cafe_sum_1000_min_price_avg - 21.0%\n",
      "cafe_sum_1000_max_price_avg - 21.0%\n",
      "cafe_avg_price_1000 - 21.0%\n",
      "cafe_sum_1500_min_price_avg - 14.0%\n",
      "cafe_sum_1500_max_price_avg - 14.0%\n",
      "cafe_avg_price_1500 - 14.0%\n",
      "cafe_sum_2000_min_price_avg - 6.0%\n",
      "cafe_sum_2000_max_price_avg - 6.0%\n",
      "cafe_avg_price_2000 - 6.0%\n",
      "cafe_sum_3000_min_price_avg - 3.0%\n",
      "cafe_sum_3000_max_price_avg - 3.0%\n",
      "cafe_avg_price_3000 - 3.0%\n",
      "prom_part_5000 - 1.0%\n",
      "cafe_sum_5000_min_price_avg - 1.0%\n",
      "cafe_sum_5000_max_price_avg - 1.0%\n",
      "cafe_avg_price_5000 - 1.0%\n"
     ]
    }
   ],
   "source": [
    "# if it's a larger dataset and the visualization takes too long can do this.\n",
    "# % of missing.\n",
    "for col in df.columns:\n",
    "    pct_missing = np.mean(df[col].isnull())\n",
    "    if (pct_missing > 0):\n",
    "        #print(pct_missing)\n",
    "        print('{} - {}%'.format(col, round(pct_missing*100)))"
   ]
  },
  {
   "cell_type": "markdown",
   "metadata": {},
   "source": [
    "Esto produce una lista abajo que muestra el porcentaje de valores faltantes para cada una de las características. Específicamente, vemos que a la característica `life_sq` le falta el 21%, mientras que a la característica `floor` sólo le falta el 1%. Esta lista es un resumen útil que puede complementar la visualización del mapa de calor."
   ]
  },
  {
   "cell_type": "markdown",
   "metadata": {},
   "source": [
    "#### Técnica #3: Histograma de datos faltantes"
   ]
  },
  {
   "cell_type": "markdown",
   "metadata": {},
   "source": [
    "El histograma de datos faltantes es también una técnica para cuando tenemos muchas características.\n",
    "Para aprender más sobre los patrones de valores perdidos entre las observaciones, podemos visualizarlos mediante un histograma."
   ]
  },
  {
   "cell_type": "code",
   "execution_count": 28,
   "metadata": {},
   "outputs": [
    {
     "name": "stdout",
     "output_type": "stream",
     "text": [
      "created missing indicator for: life_sq\n",
      "created missing indicator for: floor\n",
      "created missing indicator for: max_floor\n",
      "created missing indicator for: material\n",
      "created missing indicator for: build_year\n",
      "created missing indicator for: num_room\n",
      "created missing indicator for: kitch_sq\n",
      "created missing indicator for: state\n",
      "created missing indicator for: preschool_quota\n",
      "created missing indicator for: school_quota\n",
      "created missing indicator for: hospital_beds_raion\n",
      "created missing indicator for: raion_build_count_with_material_info\n",
      "created missing indicator for: build_count_block\n",
      "created missing indicator for: build_count_wood\n",
      "created missing indicator for: build_count_frame\n",
      "created missing indicator for: build_count_brick\n",
      "created missing indicator for: build_count_monolith\n",
      "created missing indicator for: build_count_panel\n",
      "created missing indicator for: build_count_foam\n",
      "created missing indicator for: build_count_slag\n",
      "created missing indicator for: build_count_mix\n",
      "created missing indicator for: raion_build_count_with_builddate_info\n",
      "created missing indicator for: build_count_before_1920\n",
      "created missing indicator for: build_count_1921-1945\n",
      "created missing indicator for: build_count_1946-1970\n",
      "created missing indicator for: build_count_1971-1995\n",
      "created missing indicator for: build_count_after_1995\n",
      "created missing indicator for: metro_min_walk\n",
      "created missing indicator for: metro_km_walk\n",
      "created missing indicator for: railroad_station_walk_km\n",
      "created missing indicator for: railroad_station_walk_min\n",
      "created missing indicator for: ID_railroad_station_walk\n",
      "created missing indicator for: cafe_sum_500_min_price_avg\n",
      "created missing indicator for: cafe_sum_500_max_price_avg\n",
      "created missing indicator for: cafe_avg_price_500\n",
      "created missing indicator for: cafe_sum_1000_min_price_avg\n",
      "created missing indicator for: cafe_sum_1000_max_price_avg\n",
      "created missing indicator for: cafe_avg_price_1000\n",
      "created missing indicator for: cafe_sum_1500_min_price_avg\n",
      "created missing indicator for: cafe_sum_1500_max_price_avg\n",
      "created missing indicator for: cafe_avg_price_1500\n",
      "created missing indicator for: cafe_sum_2000_min_price_avg\n",
      "created missing indicator for: cafe_sum_2000_max_price_avg\n",
      "created missing indicator for: cafe_avg_price_2000\n",
      "created missing indicator for: cafe_sum_3000_min_price_avg\n",
      "created missing indicator for: cafe_sum_3000_max_price_avg\n",
      "created missing indicator for: cafe_avg_price_3000\n",
      "created missing indicator for: prom_part_5000\n",
      "created missing indicator for: cafe_sum_5000_min_price_avg\n",
      "created missing indicator for: cafe_sum_5000_max_price_avg\n",
      "created missing indicator for: cafe_avg_price_5000\n"
     ]
    },
    {
     "data": {
      "text/plain": [
       "<matplotlib.axes._subplots.AxesSubplot at 0x7f960c551850>"
      ]
     },
     "execution_count": 28,
     "metadata": {},
     "output_type": "execute_result"
    },
    {
     "data": {
      "image/png": "[encoded data removed]",
      "text/plain": [
       "<Figure size 432x288 with 1 Axes>"
      ]
     },
     "metadata": {
      "needs_background": "light"
     },
     "output_type": "display_data"
    }
   ],
   "source": [
    "# first create missing indicator for features with missing data\n",
    "for col in df.columns:\n",
    "    missing = df[col].isnull()\n",
    "    num_missing = np.sum(missing)\n",
    "    \n",
    "    if num_missing > 0:  \n",
    "        print('created missing indicator for: {}'.format(col))\n",
    "        df['{}_ismissing'.format(col)] = missing\n",
    "        \n",
    "# then based on the indicator, plot the histogram of missing values\n",
    "ismissing_cols = [col for col in df.columns if 'ismissing' in col]\n",
    "df['num_missing'] = df[ismissing_cols].sum(axis=1)\n",
    "\n",
    "df['num_missing'].value_counts().reset_index().sort_values(by='index').plot.bar(x='index', y='num_missing')"
   ]
  },
  {
   "cell_type": "markdown",
   "metadata": {},
   "source": [
    "Este histograma ayuda a identificar las situaciones de valores perdidos entre las 30,471 observaciones.\n",
    "Por ejemplo, hay más de 6000 observaciones sin valores perdidos y cerca de 4000 observaciones con un valor perdido."
   ]
  },
  {
   "cell_type": "markdown",
   "metadata": {},
   "source": [
    "#### ¿Qué hacer?"
   ]
  },
  {
   "cell_type": "markdown",
   "metadata": {},
   "source": [
    "En general no hay soluciones acordadas para tratar con los datos que faltan. Tenemos que estudiar la característica en particular y el conjunto de datos para decidir la mejor manera de manejarlos.\n",
    "A continuación se describen los cuatro métodos más comunes para manejar los datos que faltan. Pero, si la situación es más complicada de lo habitual, tenemos que ser creativos para usar métodos más sofisticados como el modelado (impute) de datos faltantes."
   ]
  },
  {
   "cell_type": "markdown",
   "metadata": {},
   "source": [
    "#### Técnica #1: Histograma y Box Plot"
   ]
  },
  {
   "cell_type": "markdown",
   "metadata": {},
   "source": [
    "Cuando la característica es numérica, podemos usar un histograma y un box plot para detectar los valores atípicos. A continuación se muestra el histograma de la característica `life_sq`."
   ]
  },
  {
   "cell_type": "code",
   "execution_count": 31,
   "metadata": {},
   "outputs": [
    {
     "data": {
      "text/plain": [
       "<matplotlib.axes._subplots.AxesSubplot at 0x7f960c1cd950>"
      ]
     },
     "execution_count": 31,
     "metadata": {},
     "output_type": "execute_result"
    },
    {
     "data": {
      "image/png": "[encoded data removed]",
      "text/plain": [
       "<Figure size 432x288 with 1 Axes>"
      ]
     },
     "metadata": {
      "needs_background": "light"
     },
     "output_type": "display_data"
    }
   ],
   "source": [
    "# histogram of life_sq.\n",
    "df['life_sq'].hist(bins=100)"
   ]
  },
  {
   "cell_type": "markdown",
   "metadata": {},
   "source": [
    "En la figura siguiente se puede ver que los datos parecen muy sesgados con la posible existencia de valores atípicos. Para analizar la característica más de cerca, se usan los *box plot*."
   ]
  },
  {
   "cell_type": "code",
   "execution_count": 30,
   "metadata": {},
   "outputs": [
    {
     "data": {
      "text/plain": [
       "<matplotlib.axes._subplots.AxesSubplot at 0x7f960c5be2d0>"
      ]
     },
     "execution_count": 30,
     "metadata": {},
     "output_type": "execute_result"
    },
    {
     "data": {
      "image/png": "[encoded data removed]",
      "text/plain": [
       "<Figure size 432x288 with 1 Axes>"
      ]
     },
     "metadata": {
      "needs_background": "light"
     },
     "output_type": "display_data"
    }
   ],
   "source": [
    "# box plot.\n",
    "df.boxplot(column=['life_sq'])"
   ]
  },
  {
   "cell_type": "markdown",
   "metadata": {},
   "source": [
    "En esta figura, podemos ver que hay un atípico con un valor de más de 7000."
   ]
  },
  {
   "cell_type": "markdown",
   "metadata": {},
   "source": [
    "#### Técnica #2: Estadística descriptiva"
   ]
  },
  {
   "cell_type": "code",
   "execution_count": 32,
   "metadata": {},
   "outputs": [
    {
     "data": {
      "text/plain": [
       "count    24088.000000\n",
       "mean        34.403271\n",
       "std         52.285733\n",
       "min          0.000000\n",
       "25%         20.000000\n",
       "50%         30.000000\n",
       "75%         43.000000\n",
       "max       7478.000000\n",
       "Name: life_sq, dtype: float64"
      ]
     },
     "execution_count": 32,
     "metadata": {},
     "output_type": "execute_result"
    }
   ],
   "source": [
    "df['life_sq'].describe()"
   ]
  },
  {
   "cell_type": "markdown",
   "metadata": {},
   "source": [
    "Además, para las características numéricas, los valores atípicos podrían ser tan distintos que el *box plot* no puede visualizarlos. En su lugar, podemos mirar sus estadísticas descriptivas.\n",
    "Por ejemplo, para la característica `life_sq` de nuevo, podemos ver que el valor máximo es `7478`, mientras que el cuartil 75% es sólo `43`. El valor de `7478` es un valor atípico."
   ]
  },
  {
   "cell_type": "markdown",
   "metadata": {},
   "source": [
    "#### Técnica #3: Gráfico de barras"
   ]
  },
  {
   "cell_type": "markdown",
   "metadata": {},
   "source": [
    "Cuando la característica es categórica podemos usar un gráfico de barras para aprender sobre sus categorías y distribución. Por ejemplo, la característica `ecology` tiene una distribución casi equilibrada. Pero si hay una categoría con un solo valor llamado `other` (NS/NC), entonces sería un atípico."
   ]
  },
  {
   "cell_type": "code",
   "execution_count": 33,
   "metadata": {},
   "outputs": [
    {
     "data": {
      "text/plain": [
       "<matplotlib.axes._subplots.AxesSubplot at 0x7f960c192090>"
      ]
     },
     "execution_count": 33,
     "metadata": {},
     "output_type": "execute_result"
    },
    {
     "data": {
      "image/png": "[encoded data removed]",
      "text/plain": [
       "<Figure size 432x288 with 1 Axes>"
      ]
     },
     "metadata": {
      "needs_background": "light"
     },
     "output_type": "display_data"
    }
   ],
   "source": [
    "# bar chart -  distribution of a categorical variable\n",
    "df['ecology'].value_counts().plot.bar()"
   ]
  },
  {
   "cell_type": "markdown",
   "metadata": {},
   "source": [
    "Otras técnicas: Muchas otras técnicas también pueden detectar valores atípicos, como la gráfica de dispersión (scatter plot), el test Z-score y clustering."
   ]
  },
  {
   "cell_type": "markdown",
   "metadata": {},
   "source": [
    "#### ¿Qué hacer con los valores atípicos?"
   ]
  },
  {
   "cell_type": "markdown",
   "metadata": {},
   "source": [
    "Aunque los valores atípicos no son difíciles de detectar, tenemos que determinar las soluciones adecuadas para manejarlos. Depende en gran medida del conjunto de datos y del objetivo del proyecto.\n",
    "Los métodos para manejar los valores atípicos son algo similar a los datos que faltan. O bien los eliminamos, los ajustamos o los conservamos."
   ]
  },
  {
   "cell_type": "markdown",
   "metadata": {},
   "source": [
    "### Datos innecesarios"
   ]
  },
  {
   "cell_type": "markdown",
   "metadata": {},
   "source": [
    "Todos los datos que se introduzcan en el modelo deberían servir para el propósito del proyecto. Los datos innecesarios son cuando los datos no añaden valor. Cubrimos tres tipos principales de datos innecesarios debido a diferentes razones."
   ]
  },
  {
   "cell_type": "markdown",
   "metadata": {},
   "source": [
    "#### Tipo innecesario #1: Desinformativo / Repetitivo"
   ]
  },
  {
   "cell_type": "markdown",
   "metadata": {},
   "source": [
    "A veces una característica no es informativa porque tiene demasiadas observaciones que tienen el mismo valor."
   ]
  },
  {
   "cell_type": "markdown",
   "metadata": {},
   "source": [
    "#### ¿Cómo averiguarlo?"
   ]
  },
  {
   "cell_type": "markdown",
   "metadata": {},
   "source": [
    "Podemos crear una lista de característicass con un alto porcentaje del mismo valor.\n",
    "Por ejemplo, especificamos a continuación para mostrar las características con más del 95% de filas que tienen el mismo valor."
   ]
  },
  {
   "cell_type": "code",
   "execution_count": 34,
   "metadata": {},
   "outputs": [
    {
     "name": "stdout",
     "output_type": "stream",
     "text": [
      "oil_chemistry_raion: 99.02858%\n",
      "no     30175\n",
      "yes      296\n",
      "Name: oil_chemistry_raion, dtype: int64\n",
      "\n",
      "railroad_terminal_raion: 96.27187%\n",
      "no     29335\n",
      "yes     1136\n",
      "Name: railroad_terminal_raion, dtype: int64\n",
      "\n",
      "nuclear_reactor_raion: 97.16780%\n",
      "no     29608\n",
      "yes      863\n",
      "Name: nuclear_reactor_raion, dtype: int64\n",
      "\n",
      "big_road1_1line: 97.43691%\n",
      "no     29690\n",
      "yes      781\n",
      "Name: big_road1_1line, dtype: int64\n",
      "\n",
      "railroad_1line: 97.06934%\n",
      "no     29578\n",
      "yes      893\n",
      "Name: railroad_1line, dtype: int64\n",
      "\n",
      "cafe_count_500_price_high: 97.25641%\n",
      "0    29635\n",
      "1      787\n",
      "2       38\n",
      "3       11\n",
      "Name: cafe_count_500_price_high, dtype: int64\n",
      "\n",
      "mosque_count_500: 99.51101%\n",
      "0    30322\n",
      "1      149\n",
      "Name: mosque_count_500, dtype: int64\n",
      "\n",
      "cafe_count_1000_price_high: 95.52689%\n",
      "0    29108\n",
      "1     1104\n",
      "2      145\n",
      "3       51\n",
      "4       39\n",
      "5       15\n",
      "6        8\n",
      "7        1\n",
      "Name: cafe_count_1000_price_high, dtype: int64\n",
      "\n",
      "mosque_count_1000: 98.08342%\n",
      "0    29887\n",
      "1      584\n",
      "Name: mosque_count_1000, dtype: int64\n",
      "\n",
      "mosque_count_1500: 96.21936%\n",
      "0    29319\n",
      "1     1152\n",
      "Name: mosque_count_1500, dtype: int64\n",
      "\n",
      "floor_ismissing: 99.45194%\n",
      "False    30304\n",
      "True       167\n",
      "Name: floor_ismissing, dtype: int64\n",
      "\n",
      "metro_min_walk_ismissing: 99.91795%\n",
      "False    30446\n",
      "True        25\n",
      "Name: metro_min_walk_ismissing, dtype: int64\n",
      "\n",
      "metro_km_walk_ismissing: 99.91795%\n",
      "False    30446\n",
      "True        25\n",
      "Name: metro_km_walk_ismissing, dtype: int64\n",
      "\n",
      "railroad_station_walk_km_ismissing: 99.91795%\n",
      "False    30446\n",
      "True        25\n",
      "Name: railroad_station_walk_km_ismissing, dtype: int64\n",
      "\n",
      "railroad_station_walk_min_ismissing: 99.91795%\n",
      "False    30446\n",
      "True        25\n",
      "Name: railroad_station_walk_min_ismissing, dtype: int64\n",
      "\n",
      "ID_railroad_station_walk_ismissing: 99.91795%\n",
      "False    30446\n",
      "True        25\n",
      "Name: ID_railroad_station_walk_ismissing, dtype: int64\n",
      "\n",
      "cafe_sum_3000_min_price_avg_ismissing: 96.74773%\n",
      "False    29480\n",
      "True       991\n",
      "Name: cafe_sum_3000_min_price_avg_ismissing, dtype: int64\n",
      "\n",
      "cafe_sum_3000_max_price_avg_ismissing: 96.74773%\n",
      "False    29480\n",
      "True       991\n",
      "Name: cafe_sum_3000_max_price_avg_ismissing, dtype: int64\n",
      "\n",
      "cafe_avg_price_3000_ismissing: 96.74773%\n",
      "False    29480\n",
      "True       991\n",
      "Name: cafe_avg_price_3000_ismissing, dtype: int64\n",
      "\n",
      "prom_part_5000_ismissing: 99.41584%\n",
      "False    30293\n",
      "True       178\n",
      "Name: prom_part_5000_ismissing, dtype: int64\n",
      "\n",
      "cafe_sum_5000_min_price_avg_ismissing: 99.02530%\n",
      "False    30174\n",
      "True       297\n",
      "Name: cafe_sum_5000_min_price_avg_ismissing, dtype: int64\n",
      "\n",
      "cafe_sum_5000_max_price_avg_ismissing: 99.02530%\n",
      "False    30174\n",
      "True       297\n",
      "Name: cafe_sum_5000_max_price_avg_ismissing, dtype: int64\n",
      "\n",
      "cafe_avg_price_5000_ismissing: 99.02530%\n",
      "False    30174\n",
      "True       297\n",
      "Name: cafe_avg_price_5000_ismissing, dtype: int64\n",
      "\n"
     ]
    }
   ],
   "source": [
    "num_rows = len(df.index)\n",
    "low_information_cols = [] #\n",
    "\n",
    "for col in df.columns:\n",
    "    cnts = df[col].value_counts(dropna=False)\n",
    "    top_pct = (cnts/num_rows).iloc[0]\n",
    "    \n",
    "    if top_pct > 0.95:\n",
    "        low_information_cols.append(col)\n",
    "        print('{0}: {1:.5f}%'.format(col, top_pct*100))\n",
    "        print(cnts)\n",
    "        print()"
   ]
  },
  {
   "cell_type": "markdown",
   "metadata": {},
   "source": [
    "#### ¿Qué hacer?"
   ]
  },
  {
   "cell_type": "markdown",
   "metadata": {},
   "source": [
    "Necesitamos entender las razones detrás de la característica repetitiva. Cuando son genuinamente desinformativas, podemos descartarlas."
   ]
  },
  {
   "cell_type": "markdown",
   "metadata": {},
   "source": [
    "#### Tipo innecesario #2: Irrelevante"
   ]
  },
  {
   "cell_type": "markdown",
   "metadata": {},
   "source": [
    "Una vez más, los datos deben proporcionar información valiosa para el proyecto. Si las características no están relacionadas con la cuestión que estamos tratando de resolver en el proyecto, son irrelevantes."
   ]
  },
  {
   "cell_type": "markdown",
   "metadata": {},
   "source": [
    "#### ¿Cómo averiguarlo?"
   ]
  },
  {
   "cell_type": "markdown",
   "metadata": {},
   "source": [
    "Necesitamos hojear las características para identificar las irrelevantes.\n",
    "Por ejemplo, un rasgo que registra la temperatura en Toronto no proporciona ninguna información útil para predecir los precios de las viviendas en Rusia."
   ]
  },
  {
   "cell_type": "markdown",
   "metadata": {},
   "source": [
    "#### ¿Qué hacer?"
   ]
  },
  {
   "cell_type": "markdown",
   "metadata": {},
   "source": [
    "Cuando las características no sirven al objetivo del proyecto, podemos eliminarlas.\n",
    "\n",
    "*feature selection*"
   ]
  },
  {
   "cell_type": "markdown",
   "metadata": {},
   "source": [
    "#### Tipo innecesario #3: Duplicados"
   ]
  },
  {
   "cell_type": "markdown",
   "metadata": {},
   "source": [
    "Los datos duplicados son cuando existen copias de la misma observación.\n",
    "Hay dos tipos principales de datos duplicados."
   ]
  },
  {
   "cell_type": "markdown",
   "metadata": {},
   "source": [
    "#### Duplicados tipo #1: todas las características"
   ]
  },
  {
   "cell_type": "markdown",
   "metadata": {},
   "source": [
    "#### ¿Cómo averiguarlo?"
   ]
  },
  {
   "cell_type": "markdown",
   "metadata": {},
   "source": [
    "Este duplicado ocurre cuando todos los valores de las características dentro de las observaciones son los mismos. Es fácil de encontrar.\n",
    "Primero quitamos el identificador único del conjunto de datos. Luego creamos un conjunto de datos llamado `df_dedupped` eliminando los duplicados. Comparamos las formas de los dos conjuntos de datos (`df` y `df_dedupped`) para averiguar el número de filas duplicadas."
   ]
  },
  {
   "cell_type": "code",
   "execution_count": 35,
   "metadata": {},
   "outputs": [
    {
     "name": "stdout",
     "output_type": "stream",
     "text": [
      "(30471, 344)\n",
      "(30461, 343)\n"
     ]
    }
   ],
   "source": [
    "# we know that column 'id' is unique, but what if we drop it?\n",
    "df_dedupped = df.drop('id', axis=1).drop_duplicates()\n",
    "\n",
    "# there were duplicate rows\n",
    "print(df.shape)\n",
    "print(df_dedupped.shape)"
   ]
  },
  {
   "cell_type": "markdown",
   "metadata": {},
   "source": [
    "#### Duplicados tipo #2: características claves"
   ]
  },
  {
   "cell_type": "markdown",
   "metadata": {},
   "source": [
    "#### ¿Cómo averiguarlo?"
   ]
  },
  {
   "cell_type": "markdown",
   "metadata": {},
   "source": [
    "A veces es mejor eliminar los datos duplicados basándose en un conjunto de identificadores únicos.\n",
    "Por ejemplo, las posibilidades de que dos transacciones ocurran al mismo tiempo, con la misma superficie, el mismo precio y el mismo año de construcción son casi nulas.\n",
    "Podemos establecer un grupo de características críticas como identificadores únicos para las transacciones. Incluimos `timestamp`, `full_sq`, `life_sq`, `floor`, `build_year`, `num_room`, `price_doc`. Comprobamos si hay duplicados basados en ellos."
   ]
  },
  {
   "cell_type": "code",
   "execution_count": 36,
   "metadata": {},
   "outputs": [
    {
     "data": {
      "text/plain": [
       "timestamp   full_sq  life_sq  floor  build_year  num_room  price_doc\n",
       "2014-12-09  40       -999.0   17.0   -999.0       1.0      4607265      2\n",
       "2014-04-15  134       134.0   1.0     0.0         3.0      5798496      2\n",
       "2013-08-30  40       -999.0   12.0   -999.0       1.0      4462000      2\n",
       "2012-09-05  43       -999.0   21.0   -999.0      -999.0    6229540      2\n",
       "2013-12-05  40       -999.0   5.0    -999.0       1.0      4414080      2\n",
       "2014-12-17  62       -999.0   9.0    -999.0       2.0      6552000      2\n",
       "2013-05-22  68       -999.0   2.0    -999.0      -999.0    5406690      2\n",
       "2012-08-27  59       -999.0   6.0    -999.0      -999.0    4506800      2\n",
       "2013-04-03  42       -999.0   2.0    -999.0      -999.0    3444000      2\n",
       "2015-03-14  62       -999.0   2.0    -999.0       2.0      6520500      2\n",
       "2014-01-22  46        28.0    1.0     1968.0      2.0      3000000      2\n",
       "2012-10-22  61       -999.0   18.0   -999.0      -999.0    8248500      2\n",
       "2013-09-23  85       -999.0   14.0   -999.0       3.0      7725974      2\n",
       "2013-06-24  40       -999.0   12.0   -999.0      -999.0    4112800      2\n",
       "2015-03-30  41        41.0    11.0    2016.0      1.0      4114580      2\n",
       "2013-12-18  39       -999.0   6.0    -999.0       1.0      3700946      2\n",
       "2013-08-29  58        58.0    13.0    2013.0      2.0      5764128      1\n",
       "            50        33.0    2.0     1972.0      2.0      8150000      1\n",
       "            52        30.0    9.0     2006.0      2.0      10000000     1\n",
       "2013-08-30  38        17.0    15.0    2004.0      1.0      6400000      1\n",
       "Name: id, dtype: int64"
      ]
     },
     "execution_count": 36,
     "metadata": {},
     "output_type": "execute_result"
    }
   ],
   "source": [
    "key = ['timestamp', 'full_sq', 'life_sq', 'floor', 'build_year', 'num_room', 'price_doc']\n",
    "\n",
    "df.fillna(-999).groupby(key)['id'].count().sort_values(ascending=False).head(20)"
   ]
  },
  {
   "cell_type": "markdown",
   "metadata": {},
   "source": [
    "#### ¿Qué hacer?"
   ]
  },
  {
   "cell_type": "markdown",
   "metadata": {},
   "source": [
    "Podemos eliminar estos duplicados basándonos en las características principales."
   ]
  },
  {
   "cell_type": "code",
   "execution_count": 37,
   "metadata": {},
   "outputs": [
    {
     "name": "stdout",
     "output_type": "stream",
     "text": [
      "(30471, 344)\n",
      "(30455, 344)\n"
     ]
    }
   ],
   "source": [
    "# drop duplicates based on an subset of variables.\n",
    "\n",
    "key = ['timestamp', 'full_sq', 'life_sq', 'floor', 'build_year', 'num_room', 'price_doc']\n",
    "df_dedupped2 = df.drop_duplicates(subset=key)\n",
    "\n",
    "print(df.shape)\n",
    "print(df_dedupped2.shape)"
   ]
  },
  {
   "cell_type": "markdown",
   "metadata": {},
   "source": [
    "### Datos inconsistentes"
   ]
  },
  {
   "cell_type": "markdown",
   "metadata": {},
   "source": [
    "También es crucial que el conjunto de datos siga estándares específicos para ajustarse a un modelo. Necesitamos explorar los datos de diferentes maneras para encontrar los datos inconsistentes. La mayor parte del tiempo, depende de las observaciones y la experiencia. No hay un código establecido para ejecutarlo y arreglarlo todo. A continuación cubrimos cuatro tipos de datos inconsistentes."
   ]
  },
  {
   "cell_type": "markdown",
   "metadata": {},
   "source": [
    "#### Tipo inconsistente #1: Capitalización"
   ]
  },
  {
   "cell_type": "markdown",
   "metadata": {},
   "source": [
    "El uso inconsistente de las mayúsculas y minúsculas en los valores categóricos es un error común. Podría causar problemas ya que los análisis en Python son sensibles a las mayúsculas y minúsculas."
   ]
  },
  {
   "cell_type": "markdown",
   "metadata": {},
   "source": [
    "#### ¿Cómo averiguarlo?"
   ]
  },
  {
   "cell_type": "markdown",
   "metadata": {},
   "source": [
    "Veamos la característica de `sub_área`."
   ]
  },
  {
   "cell_type": "code",
   "execution_count": 38,
   "metadata": {},
   "outputs": [
    {
     "data": {
      "text/plain": [
       "Poselenie Sosenskoe               1776\n",
       "Nekrasovka                        1611\n",
       "Poselenie Vnukovskoe              1372\n",
       "Poselenie Moskovskij               925\n",
       "Poselenie Voskresenskoe            713\n",
       "                                  ... \n",
       "Molzhaninovskoe                      3\n",
       "Poselenie Shhapovskoe                2\n",
       "Poselenie Kievskij                   2\n",
       "Poselenie Klenovskoe                 1\n",
       "Poselenie Mihajlovo-Jarcevskoe       1\n",
       "Name: sub_area, Length: 146, dtype: int64"
      ]
     },
     "execution_count": 38,
     "metadata": {},
     "output_type": "execute_result"
    }
   ],
   "source": [
    "df['sub_area'].value_counts(dropna=False)"
   ]
  },
  {
   "cell_type": "markdown",
   "metadata": {},
   "source": [
    "La característica `sub_area` se ve bien, pero a veces hay un uso inconsistente de las mayúsculas dentro de la misma característica. El \"Poselenie Sosenskoe\" y \"pOseleNie sosenskeo\" podrían referirse a la misma área."
   ]
  },
  {
   "cell_type": "markdown",
   "metadata": {},
   "source": [
    "#### ¿Qué hacer?"
   ]
  },
  {
   "cell_type": "markdown",
   "metadata": {},
   "source": [
    "Para evitarlo, podemos poner todas las letras en minúsculas (o mayúsculas)."
   ]
  },
  {
   "cell_type": "code",
   "execution_count": 39,
   "metadata": {},
   "outputs": [
    {
     "data": {
      "text/plain": [
       "poselenie sosenskoe               1776\n",
       "nekrasovka                        1611\n",
       "poselenie vnukovskoe              1372\n",
       "poselenie moskovskij               925\n",
       "poselenie voskresenskoe            713\n",
       "                                  ... \n",
       "molzhaninovskoe                      3\n",
       "poselenie shhapovskoe                2\n",
       "poselenie kievskij                   2\n",
       "poselenie mihajlovo-jarcevskoe       1\n",
       "poselenie klenovskoe                 1\n",
       "Name: sub_area_lower, Length: 146, dtype: int64"
      ]
     },
     "execution_count": 39,
     "metadata": {},
     "output_type": "execute_result"
    }
   ],
   "source": [
    "# make everything lower case.\n",
    "df['sub_area_lower'] = df['sub_area'].str.lower()\n",
    "df['sub_area_lower'].value_counts(dropna=False)"
   ]
  },
  {
   "cell_type": "markdown",
   "metadata": {},
   "source": [
    "#### Tipo inconsistente #2: Formatos"
   ]
  },
  {
   "cell_type": "markdown",
   "metadata": {},
   "source": [
    "Otra estandarización que debemos realizar es la de los formatos de datos. Un ejemplo es convertir la característica `timestamp` al formato DateTime."
   ]
  },
  {
   "cell_type": "code",
   "execution_count": 41,
   "metadata": {},
   "outputs": [
    {
     "data": {
      "text/plain": [
       "2014-12-16    160\n",
       "2014-12-09    147\n",
       "2014-06-30    133\n",
       "2014-12-18    118\n",
       "2014-11-25     93\n",
       "             ... \n",
       "2014-02-16      1\n",
       "2011-09-05      1\n",
       "2011-09-09      1\n",
       "2015-01-05      1\n",
       "2011-08-27      1\n",
       "Name: timestamp, Length: 1161, dtype: int64"
      ]
     },
     "execution_count": 41,
     "metadata": {},
     "output_type": "execute_result"
    }
   ],
   "source": [
    "df.timestamp.value_counts()"
   ]
  },
  {
   "cell_type": "markdown",
   "metadata": {},
   "source": [
    "#### ¿Cómo averiguarlo?"
   ]
  },
  {
   "cell_type": "markdown",
   "metadata": {},
   "source": [
    "La característica `timestamp` está en formato objeto siendo que representa fechas."
   ]
  },
  {
   "cell_type": "code",
   "execution_count": 40,
   "metadata": {},
   "outputs": [
    {
     "data": {
      "text/plain": [
       "count          30471\n",
       "unique          1161\n",
       "top       2014-12-16\n",
       "freq             160\n",
       "Name: timestamp, dtype: object"
      ]
     },
     "execution_count": 40,
     "metadata": {},
     "output_type": "execute_result"
    }
   ],
   "source": [
    "df.timestamp.describe()"
   ]
  },
  {
   "cell_type": "markdown",
   "metadata": {},
   "source": [
    "#### ¿Qué hacer?"
   ]
  },
  {
   "cell_type": "markdown",
   "metadata": {},
   "source": [
    "Podemos convertirlo y extraer los valores de fecha u hora usando el código que se muestra a continuación. Después de esto, es más fácil analizar el grupo de volumen de transacciones por año o mes."
   ]
  },
  {
   "cell_type": "code",
   "execution_count": 42,
   "metadata": {},
   "outputs": [
    {
     "name": "stdout",
     "output_type": "stream",
     "text": [
      "2014    13662\n",
      "2013     7978\n",
      "2012     4839\n",
      "2015     3239\n",
      "2011      753\n",
      "Name: year, dtype: int64\n",
      "\n",
      "12    3400\n",
      "4     3191\n",
      "3     2972\n",
      "11    2970\n",
      "10    2736\n",
      "6     2570\n",
      "5     2496\n",
      "9     2346\n",
      "2     2275\n",
      "7     1875\n",
      "8     1831\n",
      "1     1809\n",
      "Name: month, dtype: int64\n"
     ]
    }
   ],
   "source": [
    "df['timestamp_dt'] = pd.to_datetime(df['timestamp'], format='%Y-%m-%d')\n",
    "df['year'] = df['timestamp_dt'].dt.year\n",
    "df['month'] = df['timestamp_dt'].dt.month\n",
    "df['weekday'] = df['timestamp_dt'].dt.weekday\n",
    "\n",
    "print(df['year'].value_counts(dropna=False))\n",
    "print()\n",
    "print(df['month'].value_counts(dropna=False))"
   ]
  },
  {
   "cell_type": "markdown",
   "metadata": {},
   "source": [
    "#### Tipo inconsistente #3: Valores categóricos"
   ]
  },
  {
   "cell_type": "markdown",
   "metadata": {},
   "source": [
    "Una característica categórica tiene un número limitado de valores (símbolos). A veces puede haber otros valores debido a razones como los errores tipográficos."
   ]
  },
  {
   "cell_type": "markdown",
   "metadata": {},
   "source": [
    "#### ¿Cómo averiguarlo?"
   ]
  },
  {
   "cell_type": "markdown",
   "metadata": {},
   "source": [
    "Necesitamos observar la característica para descubrir esta inconsistencia. Mostrémoslo con un ejemplo.\n",
    "Creamos un nuevo conjunto de datos a continuación. Por ejemplo, el valor de la ciudad fue escrito con errores como \"torontoo\" y \"tronto\". Pero ambos se refieren al valor correcto \"toronto\".\n",
    "Una forma sencilla de identificarlos es la [distancia edit](https://en.wikipedia.org/wiki/Edit_distance). Mide cuántas letras (distancia) necesitamos para cambiar la ortografía de un valor para que coincida con otro valor.\n",
    "Sabemos que las categorías sólo deben tener cuatro valores de \"toronto\", \"vancouver\", \"montreal\" y \"calgary\". Calculamos la distancia entre todos los valores y la palabra \"toronto\" (y \"vancouver\"). Vemos que los que pueden ser errores tipográficos tienen una distancia menor con la palabra correcta. Ya que sólo se diferencian por un par de letras."
   ]
  },
  {
   "cell_type": "code",
   "execution_count": 43,
   "metadata": {},
   "outputs": [
    {
     "data": {
      "text/html": [
       "<div>\n",
       "<style scoped>\n",
       "    .dataframe tbody tr th:only-of-type {\n",
       "        vertical-align: middle;\n",
       "    }\n",
       "\n",
       "    .dataframe tbody tr th {\n",
       "        vertical-align: top;\n",
       "    }\n",
       "\n",
       "    .dataframe thead th {\n",
       "        text-align: right;\n",
       "    }\n",
       "</style>\n",
       "<table border=\"1\" class=\"dataframe\">\n",
       "  <thead>\n",
       "    <tr style=\"text-align: right;\">\n",
       "      <th></th>\n",
       "      <th>city</th>\n",
       "      <th>city_distance_toronto</th>\n",
       "      <th>city_distance_vancouver</th>\n",
       "    </tr>\n",
       "  </thead>\n",
       "  <tbody>\n",
       "    <tr>\n",
       "      <th>0</th>\n",
       "      <td>torontoo</td>\n",
       "      <td>1</td>\n",
       "      <td>8</td>\n",
       "    </tr>\n",
       "    <tr>\n",
       "      <th>1</th>\n",
       "      <td>toronto</td>\n",
       "      <td>0</td>\n",
       "      <td>8</td>\n",
       "    </tr>\n",
       "    <tr>\n",
       "      <th>2</th>\n",
       "      <td>tronto</td>\n",
       "      <td>1</td>\n",
       "      <td>8</td>\n",
       "    </tr>\n",
       "    <tr>\n",
       "      <th>3</th>\n",
       "      <td>vancouver</td>\n",
       "      <td>8</td>\n",
       "      <td>0</td>\n",
       "    </tr>\n",
       "    <tr>\n",
       "      <th>4</th>\n",
       "      <td>vancover</td>\n",
       "      <td>7</td>\n",
       "      <td>1</td>\n",
       "    </tr>\n",
       "    <tr>\n",
       "      <th>5</th>\n",
       "      <td>vancouvr</td>\n",
       "      <td>7</td>\n",
       "      <td>1</td>\n",
       "    </tr>\n",
       "    <tr>\n",
       "      <th>6</th>\n",
       "      <td>montreal</td>\n",
       "      <td>7</td>\n",
       "      <td>8</td>\n",
       "    </tr>\n",
       "    <tr>\n",
       "      <th>7</th>\n",
       "      <td>calgary</td>\n",
       "      <td>7</td>\n",
       "      <td>8</td>\n",
       "    </tr>\n",
       "  </tbody>\n",
       "</table>\n",
       "</div>"
      ],
      "text/plain": [
       "        city  city_distance_toronto  city_distance_vancouver\n",
       "0   torontoo                      1                        8\n",
       "1    toronto                      0                        8\n",
       "2     tronto                      1                        8\n",
       "3  vancouver                      8                        0\n",
       "4   vancover                      7                        1\n",
       "5   vancouvr                      7                        1\n",
       "6   montreal                      7                        8\n",
       "7    calgary                      7                        8"
      ]
     },
     "execution_count": 43,
     "metadata": {},
     "output_type": "execute_result"
    }
   ],
   "source": [
    "from nltk.metrics import edit_distance\n",
    "\n",
    "df_city_ex = pd.DataFrame(data={'city': ['torontoo', 'toronto', 'tronto', 'vancouver', 'vancover', 'vancouvr', 'montreal', 'calgary']})\n",
    "\n",
    "\n",
    "df_city_ex['city_distance_toronto'] = df_city_ex['city'].map(lambda x: edit_distance(x, 'toronto'))\n",
    "df_city_ex['city_distance_vancouver'] = df_city_ex['city'].map(lambda x: edit_distance(x, 'vancouver'))\n",
    "df_city_ex"
   ]
  },
  {
   "cell_type": "markdown",
   "metadata": {},
   "source": [
    "#### ¿Qué hacer?"
   ]
  },
  {
   "cell_type": "markdown",
   "metadata": {},
   "source": [
    "Podemos establecer criterios para convertir estos errores tipográficos a los valores correctos. Por ejemplo, el siguiente código establece que todos los valores dentro de una distancia de 2 letras de \"toronto\" sean \"toronto\"."
   ]
  },
  {
   "cell_type": "code",
   "execution_count": 44,
   "metadata": {},
   "outputs": [
    {
     "data": {
      "text/html": [
       "<div>\n",
       "<style scoped>\n",
       "    .dataframe tbody tr th:only-of-type {\n",
       "        vertical-align: middle;\n",
       "    }\n",
       "\n",
       "    .dataframe tbody tr th {\n",
       "        vertical-align: top;\n",
       "    }\n",
       "\n",
       "    .dataframe thead th {\n",
       "        text-align: right;\n",
       "    }\n",
       "</style>\n",
       "<table border=\"1\" class=\"dataframe\">\n",
       "  <thead>\n",
       "    <tr style=\"text-align: right;\">\n",
       "      <th></th>\n",
       "      <th>city</th>\n",
       "      <th>city_distance_toronto</th>\n",
       "      <th>city_distance_vancouver</th>\n",
       "    </tr>\n",
       "  </thead>\n",
       "  <tbody>\n",
       "    <tr>\n",
       "      <th>0</th>\n",
       "      <td>toronto</td>\n",
       "      <td>1</td>\n",
       "      <td>8</td>\n",
       "    </tr>\n",
       "    <tr>\n",
       "      <th>1</th>\n",
       "      <td>toronto</td>\n",
       "      <td>0</td>\n",
       "      <td>8</td>\n",
       "    </tr>\n",
       "    <tr>\n",
       "      <th>2</th>\n",
       "      <td>toronto</td>\n",
       "      <td>1</td>\n",
       "      <td>8</td>\n",
       "    </tr>\n",
       "    <tr>\n",
       "      <th>3</th>\n",
       "      <td>vancouver</td>\n",
       "      <td>8</td>\n",
       "      <td>0</td>\n",
       "    </tr>\n",
       "    <tr>\n",
       "      <th>4</th>\n",
       "      <td>vancouver</td>\n",
       "      <td>7</td>\n",
       "      <td>1</td>\n",
       "    </tr>\n",
       "    <tr>\n",
       "      <th>5</th>\n",
       "      <td>vancouver</td>\n",
       "      <td>7</td>\n",
       "      <td>1</td>\n",
       "    </tr>\n",
       "    <tr>\n",
       "      <th>6</th>\n",
       "      <td>montreal</td>\n",
       "      <td>7</td>\n",
       "      <td>8</td>\n",
       "    </tr>\n",
       "    <tr>\n",
       "      <th>7</th>\n",
       "      <td>calgary</td>\n",
       "      <td>7</td>\n",
       "      <td>8</td>\n",
       "    </tr>\n",
       "  </tbody>\n",
       "</table>\n",
       "</div>"
      ],
      "text/plain": [
       "        city  city_distance_toronto  city_distance_vancouver\n",
       "0    toronto                      1                        8\n",
       "1    toronto                      0                        8\n",
       "2    toronto                      1                        8\n",
       "3  vancouver                      8                        0\n",
       "4  vancouver                      7                        1\n",
       "5  vancouver                      7                        1\n",
       "6   montreal                      7                        8\n",
       "7    calgary                      7                        8"
      ]
     },
     "execution_count": 44,
     "metadata": {},
     "output_type": "execute_result"
    }
   ],
   "source": [
    "msk = df_city_ex['city_distance_toronto'] <= 2\n",
    "df_city_ex.loc[msk, 'city'] = 'toronto'\n",
    "\n",
    "msk = df_city_ex['city_distance_vancouver'] <= 2\n",
    "df_city_ex.loc[msk, 'city'] = 'vancouver'\n",
    "\n",
    "df_city_ex"
   ]
  },
  {
   "cell_type": "markdown",
   "metadata": {},
   "source": [
    "#### Tipo inconsistente #4: Direcciones"
   ]
  },
  {
   "cell_type": "markdown",
   "metadata": {},
   "source": [
    "La característica de la dirección podría ser un dolor de cabeza para muchos de nosotros. Porque la gente que introduce los datos en la base de datos a menudo no sigue un formato estándar."
   ]
  },
  {
   "cell_type": "markdown",
   "metadata": {},
   "source": [
    "#### ¿Cómo averiguarlo?"
   ]
  },
  {
   "cell_type": "markdown",
   "metadata": {},
   "source": [
    "Podemos encontrar datos de direcciones desordenados mirándolos. Aunque a veces no podemos detectar ningún problema, podemos ejecutar el código para estandarizarlos.\n",
    "No hay una columna de direcciones en nuestro conjunto de datos por razones de privacidad. Así que creamos un nuevo conjunto de datos `df_add_ex` con la dirección de la característica."
   ]
  },
  {
   "cell_type": "code",
   "execution_count": 45,
   "metadata": {},
   "outputs": [
    {
     "data": {
      "text/html": [
       "<div>\n",
       "<style scoped>\n",
       "    .dataframe tbody tr th:only-of-type {\n",
       "        vertical-align: middle;\n",
       "    }\n",
       "\n",
       "    .dataframe tbody tr th {\n",
       "        vertical-align: top;\n",
       "    }\n",
       "\n",
       "    .dataframe thead th {\n",
       "        text-align: right;\n",
       "    }\n",
       "</style>\n",
       "<table border=\"1\" class=\"dataframe\">\n",
       "  <thead>\n",
       "    <tr style=\"text-align: right;\">\n",
       "      <th></th>\n",
       "      <th>address</th>\n",
       "    </tr>\n",
       "  </thead>\n",
       "  <tbody>\n",
       "    <tr>\n",
       "      <th>0</th>\n",
       "      <td>123 MAIN St Apartment 15</td>\n",
       "    </tr>\n",
       "    <tr>\n",
       "      <th>1</th>\n",
       "      <td>123 Main Street Apt 12</td>\n",
       "    </tr>\n",
       "    <tr>\n",
       "      <th>2</th>\n",
       "      <td>543 FirSt Av</td>\n",
       "    </tr>\n",
       "    <tr>\n",
       "      <th>3</th>\n",
       "      <td>876 FIRst Ave.</td>\n",
       "    </tr>\n",
       "  </tbody>\n",
       "</table>\n",
       "</div>"
      ],
      "text/plain": [
       "                     address\n",
       "0   123 MAIN St Apartment 15\n",
       "1  123 Main Street Apt 12   \n",
       "2               543 FirSt Av\n",
       "3             876 FIRst Ave."
      ]
     },
     "execution_count": 45,
     "metadata": {},
     "output_type": "execute_result"
    }
   ],
   "source": [
    "# no address column in the housing dataset. So create one to show the code.\n",
    "df_add_ex = pd.DataFrame(['123 MAIN St Apartment 15', '123 Main Street Apt 12   ', '543 FirSt Av', '  876 FIRst Ave.'], columns=['address'])\n",
    "df_add_ex"
   ]
  },
  {
   "cell_type": "markdown",
   "metadata": {},
   "source": [
    "#### ¿Qué hacer?"
   ]
  },
  {
   "cell_type": "markdown",
   "metadata": {},
   "source": [
    "Ejecutamos el siguiente código para poner las letras en minúsculas, eliminar los espacios en blanco, eliminar los puntos y estandarizar las palabras."
   ]
  },
  {
   "cell_type": "code",
   "execution_count": 46,
   "metadata": {},
   "outputs": [
    {
     "data": {
      "text/html": [
       "<div>\n",
       "<style scoped>\n",
       "    .dataframe tbody tr th:only-of-type {\n",
       "        vertical-align: middle;\n",
       "    }\n",
       "\n",
       "    .dataframe tbody tr th {\n",
       "        vertical-align: top;\n",
       "    }\n",
       "\n",
       "    .dataframe thead th {\n",
       "        text-align: right;\n",
       "    }\n",
       "</style>\n",
       "<table border=\"1\" class=\"dataframe\">\n",
       "  <thead>\n",
       "    <tr style=\"text-align: right;\">\n",
       "      <th></th>\n",
       "      <th>address</th>\n",
       "      <th>address_std</th>\n",
       "    </tr>\n",
       "  </thead>\n",
       "  <tbody>\n",
       "    <tr>\n",
       "      <th>0</th>\n",
       "      <td>123 MAIN St Apartment 15</td>\n",
       "      <td>123 main st apt 15</td>\n",
       "    </tr>\n",
       "    <tr>\n",
       "      <th>1</th>\n",
       "      <td>123 Main Street Apt 12</td>\n",
       "      <td>123 main st apt 12</td>\n",
       "    </tr>\n",
       "    <tr>\n",
       "      <th>2</th>\n",
       "      <td>543 FirSt Av</td>\n",
       "      <td>543 first ave</td>\n",
       "    </tr>\n",
       "    <tr>\n",
       "      <th>3</th>\n",
       "      <td>876 FIRst Ave.</td>\n",
       "      <td>876 first ave</td>\n",
       "    </tr>\n",
       "  </tbody>\n",
       "</table>\n",
       "</div>"
      ],
      "text/plain": [
       "                     address         address_std\n",
       "0   123 MAIN St Apartment 15  123 main st apt 15\n",
       "1  123 Main Street Apt 12     123 main st apt 12\n",
       "2               543 FirSt Av       543 first ave\n",
       "3             876 FIRst Ave.       876 first ave"
      ]
     },
     "execution_count": 46,
     "metadata": {},
     "output_type": "execute_result"
    }
   ],
   "source": [
    "df_add_ex['address_std'] = df_add_ex['address'].str.lower()\n",
    "df_add_ex['address_std'] = df_add_ex['address_std'].str.strip() # remove leading and trailing whitespace.\n",
    "df_add_ex['address_std'] = df_add_ex['address_std'].str.replace('\\\\.', '') # remove period.\n",
    "df_add_ex['address_std'] = df_add_ex['address_std'].str.replace('\\\\bstreet\\\\b', 'st') # replace street with st.\n",
    "df_add_ex['address_std'] = df_add_ex['address_std'].str.replace('\\\\bapartment\\\\b', 'apt') # replace apartment with apt.\n",
    "df_add_ex['address_std'] = df_add_ex['address_std'].str.replace('\\\\bav\\\\b', 'ave') # replace apartment with apt.\n",
    "\n",
    "df_add_ex"
   ]
  }
 ],
 "metadata": {
  "kernelspec": {
   "display_name": "Python 3",
   "language": "python",
   "name": "python3"
  },
  "language_info": {
   "codemirror_mode": {
    "name": "ipython",
    "version": 3
   },
   "file_extension": ".py",
   "mimetype": "text/x-python",
   "name": "python",
   "nbconvert_exporter": "python",
   "pygments_lexer": "ipython3",
   "version": "3.7.5"
  }
 },
 "nbformat": 4,
 "nbformat_minor": 4
}
